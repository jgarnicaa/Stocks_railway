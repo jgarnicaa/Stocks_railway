{
  "cells": [
    {
      "cell_type": "markdown",
      "metadata": {
        "id": "view-in-github",
        "colab_type": "text"
      },
      "source": [
        "<a href=\"https://colab.research.google.com/github/jgarnicaa/Stocks_railway/blob/master/M6U4_Taller_4.ipynb\" target=\"_parent\"><img src=\"https://colab.research.google.com/assets/colab-badge.svg\" alt=\"Open In Colab\"/></a>"
      ]
    },
    {
      "cell_type": "markdown",
      "metadata": {
        "id": "j69mQFrfHmFk"
      },
      "source": [
        "<img src=\"https://drive.google.com/uc?export=view&id=1o4udU5qVMi_7jDi0XzSspbPC6Hw0ev9o\" width=\"100%\">"
      ]
    },
    {
      "cell_type": "markdown",
      "metadata": {
        "id": "fEewD2N0RkMc"
      },
      "source": [
        "# **Taller 4: Despliegue de modelos**\n",
        "---\n",
        "\n",
        "En este notebook evaluaremos los conceptos aprendidos sobre el despliegue de modelos.\n",
        "\n",
        "Ejecute las siguientes celdas para conectarse a UNCode:"
      ]
    },
    {
      "cell_type": "code",
      "execution_count": 1,
      "metadata": {
        "id": "2nZiCjQpPdYC",
        "colab": {
          "base_uri": "https://localhost:8080/"
        },
        "outputId": "f74b62c3-7afa-4b1a-d570-f34a2d1bdb85"
      },
      "outputs": [
        {
          "output_type": "stream",
          "name": "stdout",
          "text": [
            "Collecting rlxcrypt\n",
            "  Downloading rlxcrypt-0.0.4-cp310-cp310-manylinux_2_17_x86_64.manylinux2014_x86_64.whl.metadata (1.9 kB)\n",
            "Collecting imphook (from rlxcrypt)\n",
            "  Downloading imphook-1.0.tar.gz (12 kB)\n",
            "  Preparing metadata (setup.py) ... \u001b[?25l\u001b[?25hdone\n",
            "Requirement already satisfied: cython in /usr/local/lib/python3.10/dist-packages (from rlxcrypt) (3.0.11)\n",
            "Collecting pycryptodome (from rlxcrypt)\n",
            "  Downloading pycryptodome-3.21.0-cp36-abi3-manylinux_2_17_x86_64.manylinux2014_x86_64.whl.metadata (3.4 kB)\n",
            "Requirement already satisfied: cryptography in /usr/local/lib/python3.10/dist-packages (from rlxcrypt) (43.0.3)\n",
            "Requirement already satisfied: cffi>=1.12 in /usr/local/lib/python3.10/dist-packages (from cryptography->rlxcrypt) (1.17.1)\n",
            "Requirement already satisfied: pycparser in /usr/local/lib/python3.10/dist-packages (from cffi>=1.12->cryptography->rlxcrypt) (2.22)\n",
            "Downloading rlxcrypt-0.0.4-cp310-cp310-manylinux_2_17_x86_64.manylinux2014_x86_64.whl (297 kB)\n",
            "\u001b[2K   \u001b[90m━━━━━━━━━━━━━━━━━━━━━━━━━━━━━━━━━━━━━━━━\u001b[0m \u001b[32m297.9/297.9 kB\u001b[0m \u001b[31m5.8 MB/s\u001b[0m eta \u001b[36m0:00:00\u001b[0m\n",
            "\u001b[?25hDownloading pycryptodome-3.21.0-cp36-abi3-manylinux_2_17_x86_64.manylinux2014_x86_64.whl (2.3 MB)\n",
            "\u001b[2K   \u001b[90m━━━━━━━━━━━━━━━━━━━━━━━━━━━━━━━━━━━━━━━━\u001b[0m \u001b[32m2.3/2.3 MB\u001b[0m \u001b[31m29.1 MB/s\u001b[0m eta \u001b[36m0:00:00\u001b[0m\n",
            "\u001b[?25hBuilding wheels for collected packages: imphook\n",
            "  Building wheel for imphook (setup.py) ... \u001b[?25l\u001b[?25hdone\n",
            "  Created wheel for imphook: filename=imphook-1.0-py3-none-any.whl size=9423 sha256=2ae4d02fb7b2f32ebecde7f5d845c9d9a8857680e88fdf3d8a65d3b038d728e7\n",
            "  Stored in directory: /root/.cache/pip/wheels/dc/e2/a4/fcb3817d09a2eb047b2b08eb58e7d9140041b0f3f415eb1256\n",
            "Successfully built imphook\n",
            "Installing collected packages: imphook, pycryptodome, rlxcrypt\n",
            "Successfully installed imphook-1.0 pycryptodome-3.21.0 rlxcrypt-0.0.4\n"
          ]
        }
      ],
      "source": [
        "!pip install rlxcrypt"
      ]
    },
    {
      "cell_type": "code",
      "execution_count": 3,
      "metadata": {
        "id": "TAqkL4giPflw"
      },
      "outputs": [],
      "source": [
        "!wget --no-cache -O session.pye -q https://raw.githubusercontent.com/JuezUN/INGInious/master/external%20libs/session.pye"
      ]
    },
    {
      "cell_type": "code",
      "execution_count": 4,
      "metadata": {
        "id": "CKNgJYjHPhtr",
        "colab": {
          "base_uri": "https://localhost:8080/",
          "height": 288
        },
        "outputId": "09653d78-06ac-47e2-b7b5-a8e4fb3a7766"
      },
      "outputs": [
        {
          "output_type": "display_data",
          "data": {
            "text/plain": [
              "<IPython.core.display.HTML object>"
            ],
            "text/html": [
              "\n",
              "    <div>\n",
              "    <div style=\"display: flex\">\n",
              "        <div style=\"padding: 10px\">\n",
              "          <img\n",
              "            src=\"https://uncode.unal.edu.co/static/images/logo_unc.svg\"\n",
              "            width=\"50px\"\n",
              "            height=\"50px\"\n",
              "          />\n",
              "        </div>\n",
              "      \n",
              "        <div>\n",
              "          <h2>UNCode Notebooks grader API</h2>\n",
              "          <hr />\n",
              "        </div>\n",
              "      </div>\n",
              "      \n",
              "      <div style=\"display: flex\">\n",
              "        <span>Please enter authentication data</span>\n",
              "      </div>\n",
              "    </div>\n",
              "    "
            ]
          },
          "metadata": {}
        },
        {
          "name": "stdout",
          "output_type": "stream",
          "text": [
            "Please enter your UNCode username: jgarnicaa\n",
            "Please enter your password: ··········\n"
          ]
        },
        {
          "output_type": "display_data",
          "data": {
            "text/plain": [
              "<IPython.core.display.HTML object>"
            ],
            "text/html": [
              "<h5 style=\"color: green\"><Response [200]></h5>"
            ]
          },
          "metadata": {}
        },
        {
          "output_type": "display_data",
          "data": {
            "text/plain": [
              "<IPython.core.display.HTML object>"
            ],
            "text/html": [
              "<h5 style=\"color: green\">Auth process succeeded</h5>"
            ]
          },
          "metadata": {}
        },
        {
          "output_type": "display_data",
          "data": {
            "text/plain": [
              "<IPython.core.display.HTML object>"
            ],
            "text/html": [
              "<h5>View your courses <a href=\"https://uncode.unal.edu.co/courselist\">at UNCode platform</a></h5>"
            ]
          },
          "metadata": {}
        },
        {
          "output_type": "display_data",
          "data": {
            "text/plain": [
              "<IPython.core.display.HTML object>"
            ],
            "text/html": [
              "<h3>You will sumbit code to course: <span style=\"color: green\">Metodologias agiles para el desarrollo de aplicaciones con Machine Learning | Grupo MLDS-6 | 2024 - 2<span></h3>"
            ]
          },
          "metadata": {}
        },
        {
          "output_type": "display_data",
          "data": {
            "text/plain": [
              "<IPython.core.display.HTML object>"
            ],
            "text/html": [
              "<h3>You will sumbit code to task: <span style=\"color: blue\">Taller 4: Despliegue de modelos<span></h3>"
            ]
          },
          "metadata": {}
        }
      ],
      "source": [
        "import rlxcrypt\n",
        "import session\n",
        "\n",
        "grader = session.LoginSequence(\"MAPEDDACML-GroupMLDS-6-2024-2@2907beb0-f808-419c-a736-2406605bf0ad\")"
      ]
    },
    {
      "cell_type": "markdown",
      "metadata": {
        "id": "S-ocd--frFi7"
      },
      "source": [
        "Comenzamos instalando las librerías y herramientas necesarias:"
      ]
    },
    {
      "cell_type": "code",
      "execution_count": 5,
      "metadata": {
        "id": "AMgHXLh7Zg1l",
        "colab": {
          "base_uri": "https://localhost:8080/"
        },
        "outputId": "1d75b6a4-6187-45c0-cca6-1a2c6d2e7951"
      },
      "outputs": [
        {
          "output_type": "stream",
          "name": "stdout",
          "text": [
            "Collecting fastapi\n",
            "  Downloading fastapi-0.115.6-py3-none-any.whl.metadata (27 kB)\n",
            "Collecting starlette<0.42.0,>=0.40.0 (from fastapi)\n",
            "  Downloading starlette-0.41.3-py3-none-any.whl.metadata (6.0 kB)\n",
            "Requirement already satisfied: pydantic!=1.8,!=1.8.1,!=2.0.0,!=2.0.1,!=2.1.0,<3.0.0,>=1.7.4 in /usr/local/lib/python3.10/dist-packages (from fastapi) (2.10.3)\n",
            "Requirement already satisfied: typing-extensions>=4.8.0 in /usr/local/lib/python3.10/dist-packages (from fastapi) (4.12.2)\n",
            "Requirement already satisfied: annotated-types>=0.6.0 in /usr/local/lib/python3.10/dist-packages (from pydantic!=1.8,!=1.8.1,!=2.0.0,!=2.0.1,!=2.1.0,<3.0.0,>=1.7.4->fastapi) (0.7.0)\n",
            "Requirement already satisfied: pydantic-core==2.27.1 in /usr/local/lib/python3.10/dist-packages (from pydantic!=1.8,!=1.8.1,!=2.0.0,!=2.0.1,!=2.1.0,<3.0.0,>=1.7.4->fastapi) (2.27.1)\n",
            "Requirement already satisfied: anyio<5,>=3.4.0 in /usr/local/lib/python3.10/dist-packages (from starlette<0.42.0,>=0.40.0->fastapi) (3.7.1)\n",
            "Requirement already satisfied: idna>=2.8 in /usr/local/lib/python3.10/dist-packages (from anyio<5,>=3.4.0->starlette<0.42.0,>=0.40.0->fastapi) (3.10)\n",
            "Requirement already satisfied: sniffio>=1.1 in /usr/local/lib/python3.10/dist-packages (from anyio<5,>=3.4.0->starlette<0.42.0,>=0.40.0->fastapi) (1.3.1)\n",
            "Requirement already satisfied: exceptiongroup in /usr/local/lib/python3.10/dist-packages (from anyio<5,>=3.4.0->starlette<0.42.0,>=0.40.0->fastapi) (1.2.2)\n",
            "Downloading fastapi-0.115.6-py3-none-any.whl (94 kB)\n",
            "\u001b[2K   \u001b[90m━━━━━━━━━━━━━━━━━━━━━━━━━━━━━━━━━━━━━━━━\u001b[0m \u001b[32m94.8/94.8 kB\u001b[0m \u001b[31m3.9 MB/s\u001b[0m eta \u001b[36m0:00:00\u001b[0m\n",
            "\u001b[?25hDownloading starlette-0.41.3-py3-none-any.whl (73 kB)\n",
            "\u001b[2K   \u001b[90m━━━━━━━━━━━━━━━━━━━━━━━━━━━━━━━━━━━━━━━━\u001b[0m \u001b[32m73.2/73.2 kB\u001b[0m \u001b[31m5.0 MB/s\u001b[0m eta \u001b[36m0:00:00\u001b[0m\n",
            "\u001b[?25hInstalling collected packages: starlette, fastapi\n",
            "Successfully installed fastapi-0.115.6 starlette-0.41.3\n"
          ]
        }
      ],
      "source": [
        "!pip install fastapi"
      ]
    },
    {
      "cell_type": "markdown",
      "metadata": {
        "id": "R6-Jscb8Zyhb"
      },
      "source": [
        "Importamos las librerías necesarias:"
      ]
    },
    {
      "cell_type": "code",
      "execution_count": 6,
      "metadata": {
        "id": "PIB7qeOuVkfh"
      },
      "outputs": [],
      "source": [
        "# Librerías de utilidad para manipulación y visualización de datos.\n",
        "import joblib\n",
        "import requests\n",
        "import pandas as pd\n",
        "import os\n",
        "import subprocess\n",
        "from sklearn.svm import SVR\n",
        "from IPython.display import display\n",
        "from pydantic import BaseModel\n",
        "from typing import List\n",
        "\n",
        "# Ignorar warnings.\n",
        "import warnings\n",
        "warnings.filterwarnings('ignore')"
      ]
    },
    {
      "cell_type": "code",
      "execution_count": 7,
      "metadata": {
        "id": "jUMP_2CPqwRY",
        "colab": {
          "base_uri": "https://localhost:8080/"
        },
        "outputId": "efd7cf51-5c70-41fe-8a99-b71f99d2a6f3"
      },
      "outputs": [
        {
          "output_type": "stream",
          "name": "stdout",
          "text": [
            "Python 3.10.12\n",
            "FastAPI 0.115.6\n"
          ]
        }
      ],
      "source": [
        "# Versiones de las librerías usadas\n",
        "!python --version\n",
        "import fastapi\n",
        "print('FastAPI', fastapi.__version__)"
      ]
    },
    {
      "cell_type": "markdown",
      "metadata": {
        "id": "F0TKCwN8KRtN"
      },
      "source": [
        "Esta actividad se realizó con las siguientes versiones:\n",
        "*  Python 3.10.11\n",
        "*  FastAPI 0.95.11"
      ]
    },
    {
      "cell_type": "markdown",
      "metadata": {
        "id": "b0azfDGkKpoM"
      },
      "source": [
        "## **Carga de datos**\n",
        "----\n",
        "\n",
        "Se trata de un conjunto de datos que contiene valores monetarios de las acciones de la empresa ABC durante seis días consecutivos, las columnas están nombradas de forma relativa de acuerdo al día, donde el primer día corresponde a `d1`, el segundo a `d2`, y así con el resto de días.\n",
        "\n",
        "<center><img src = \"https://drive.google.com/uc?export=view&id=1_zfM8NlHwTjJlilr8hSC0MEXMFKyVqKl\" alt = \"Encabezado MLDS\" width = \"80%\">  </img></center>\n",
        "\n",
        "El objetivo es utilizar los 5 primeros días para predecir el valor de la acción durante el sexto día."
      ]
    },
    {
      "cell_type": "code",
      "execution_count": 8,
      "metadata": {
        "id": "j8_7t6WpKPrw",
        "colab": {
          "base_uri": "https://localhost:8080/",
          "height": 206
        },
        "outputId": "3ac0257b-985f-4f83-a744-767338b05202"
      },
      "outputs": [
        {
          "output_type": "display_data",
          "data": {
            "text/plain": [
              "         d1        d2        d3        d4        d5         d6\n",
              "0  6.683700  7.307197  7.901831  6.793409  7.596051  10.094277\n",
              "1  6.920356  6.712626  8.482912  7.191989  7.027057  10.514893\n",
              "2  8.762426  7.111203  7.373695  8.055652  7.046092  10.924656\n",
              "3  7.360150  8.945942  6.165044  7.838973  6.655667   9.883488\n",
              "4  5.607559  8.506250  7.563135  6.678151  6.976000   9.723464"
            ],
            "text/html": [
              "\n",
              "  <div id=\"df-b2a8fabc-2711-4e84-a084-d1b01cc2a511\" class=\"colab-df-container\">\n",
              "    <div>\n",
              "<style scoped>\n",
              "    .dataframe tbody tr th:only-of-type {\n",
              "        vertical-align: middle;\n",
              "    }\n",
              "\n",
              "    .dataframe tbody tr th {\n",
              "        vertical-align: top;\n",
              "    }\n",
              "\n",
              "    .dataframe thead th {\n",
              "        text-align: right;\n",
              "    }\n",
              "</style>\n",
              "<table border=\"1\" class=\"dataframe\">\n",
              "  <thead>\n",
              "    <tr style=\"text-align: right;\">\n",
              "      <th></th>\n",
              "      <th>d1</th>\n",
              "      <th>d2</th>\n",
              "      <th>d3</th>\n",
              "      <th>d4</th>\n",
              "      <th>d5</th>\n",
              "      <th>d6</th>\n",
              "    </tr>\n",
              "  </thead>\n",
              "  <tbody>\n",
              "    <tr>\n",
              "      <th>0</th>\n",
              "      <td>6.683700</td>\n",
              "      <td>7.307197</td>\n",
              "      <td>7.901831</td>\n",
              "      <td>6.793409</td>\n",
              "      <td>7.596051</td>\n",
              "      <td>10.094277</td>\n",
              "    </tr>\n",
              "    <tr>\n",
              "      <th>1</th>\n",
              "      <td>6.920356</td>\n",
              "      <td>6.712626</td>\n",
              "      <td>8.482912</td>\n",
              "      <td>7.191989</td>\n",
              "      <td>7.027057</td>\n",
              "      <td>10.514893</td>\n",
              "    </tr>\n",
              "    <tr>\n",
              "      <th>2</th>\n",
              "      <td>8.762426</td>\n",
              "      <td>7.111203</td>\n",
              "      <td>7.373695</td>\n",
              "      <td>8.055652</td>\n",
              "      <td>7.046092</td>\n",
              "      <td>10.924656</td>\n",
              "    </tr>\n",
              "    <tr>\n",
              "      <th>3</th>\n",
              "      <td>7.360150</td>\n",
              "      <td>8.945942</td>\n",
              "      <td>6.165044</td>\n",
              "      <td>7.838973</td>\n",
              "      <td>6.655667</td>\n",
              "      <td>9.883488</td>\n",
              "    </tr>\n",
              "    <tr>\n",
              "      <th>4</th>\n",
              "      <td>5.607559</td>\n",
              "      <td>8.506250</td>\n",
              "      <td>7.563135</td>\n",
              "      <td>6.678151</td>\n",
              "      <td>6.976000</td>\n",
              "      <td>9.723464</td>\n",
              "    </tr>\n",
              "  </tbody>\n",
              "</table>\n",
              "</div>\n",
              "    <div class=\"colab-df-buttons\">\n",
              "\n",
              "  <div class=\"colab-df-container\">\n",
              "    <button class=\"colab-df-convert\" onclick=\"convertToInteractive('df-b2a8fabc-2711-4e84-a084-d1b01cc2a511')\"\n",
              "            title=\"Convert this dataframe to an interactive table.\"\n",
              "            style=\"display:none;\">\n",
              "\n",
              "  <svg xmlns=\"http://www.w3.org/2000/svg\" height=\"24px\" viewBox=\"0 -960 960 960\">\n",
              "    <path d=\"M120-120v-720h720v720H120Zm60-500h600v-160H180v160Zm220 220h160v-160H400v160Zm0 220h160v-160H400v160ZM180-400h160v-160H180v160Zm440 0h160v-160H620v160ZM180-180h160v-160H180v160Zm440 0h160v-160H620v160Z\"/>\n",
              "  </svg>\n",
              "    </button>\n",
              "\n",
              "  <style>\n",
              "    .colab-df-container {\n",
              "      display:flex;\n",
              "      gap: 12px;\n",
              "    }\n",
              "\n",
              "    .colab-df-convert {\n",
              "      background-color: #E8F0FE;\n",
              "      border: none;\n",
              "      border-radius: 50%;\n",
              "      cursor: pointer;\n",
              "      display: none;\n",
              "      fill: #1967D2;\n",
              "      height: 32px;\n",
              "      padding: 0 0 0 0;\n",
              "      width: 32px;\n",
              "    }\n",
              "\n",
              "    .colab-df-convert:hover {\n",
              "      background-color: #E2EBFA;\n",
              "      box-shadow: 0px 1px 2px rgba(60, 64, 67, 0.3), 0px 1px 3px 1px rgba(60, 64, 67, 0.15);\n",
              "      fill: #174EA6;\n",
              "    }\n",
              "\n",
              "    .colab-df-buttons div {\n",
              "      margin-bottom: 4px;\n",
              "    }\n",
              "\n",
              "    [theme=dark] .colab-df-convert {\n",
              "      background-color: #3B4455;\n",
              "      fill: #D2E3FC;\n",
              "    }\n",
              "\n",
              "    [theme=dark] .colab-df-convert:hover {\n",
              "      background-color: #434B5C;\n",
              "      box-shadow: 0px 1px 3px 1px rgba(0, 0, 0, 0.15);\n",
              "      filter: drop-shadow(0px 1px 2px rgba(0, 0, 0, 0.3));\n",
              "      fill: #FFFFFF;\n",
              "    }\n",
              "  </style>\n",
              "\n",
              "    <script>\n",
              "      const buttonEl =\n",
              "        document.querySelector('#df-b2a8fabc-2711-4e84-a084-d1b01cc2a511 button.colab-df-convert');\n",
              "      buttonEl.style.display =\n",
              "        google.colab.kernel.accessAllowed ? 'block' : 'none';\n",
              "\n",
              "      async function convertToInteractive(key) {\n",
              "        const element = document.querySelector('#df-b2a8fabc-2711-4e84-a084-d1b01cc2a511');\n",
              "        const dataTable =\n",
              "          await google.colab.kernel.invokeFunction('convertToInteractive',\n",
              "                                                    [key], {});\n",
              "        if (!dataTable) return;\n",
              "\n",
              "        const docLinkHtml = 'Like what you see? Visit the ' +\n",
              "          '<a target=\"_blank\" href=https://colab.research.google.com/notebooks/data_table.ipynb>data table notebook</a>'\n",
              "          + ' to learn more about interactive tables.';\n",
              "        element.innerHTML = '';\n",
              "        dataTable['output_type'] = 'display_data';\n",
              "        await google.colab.output.renderOutput(dataTable, element);\n",
              "        const docLink = document.createElement('div');\n",
              "        docLink.innerHTML = docLinkHtml;\n",
              "        element.appendChild(docLink);\n",
              "      }\n",
              "    </script>\n",
              "  </div>\n",
              "\n",
              "\n",
              "<div id=\"df-c5070ec0-5a84-466b-b46e-0bad74028497\">\n",
              "  <button class=\"colab-df-quickchart\" onclick=\"quickchart('df-c5070ec0-5a84-466b-b46e-0bad74028497')\"\n",
              "            title=\"Suggest charts\"\n",
              "            style=\"display:none;\">\n",
              "\n",
              "<svg xmlns=\"http://www.w3.org/2000/svg\" height=\"24px\"viewBox=\"0 0 24 24\"\n",
              "     width=\"24px\">\n",
              "    <g>\n",
              "        <path d=\"M19 3H5c-1.1 0-2 .9-2 2v14c0 1.1.9 2 2 2h14c1.1 0 2-.9 2-2V5c0-1.1-.9-2-2-2zM9 17H7v-7h2v7zm4 0h-2V7h2v10zm4 0h-2v-4h2v4z\"/>\n",
              "    </g>\n",
              "</svg>\n",
              "  </button>\n",
              "\n",
              "<style>\n",
              "  .colab-df-quickchart {\n",
              "      --bg-color: #E8F0FE;\n",
              "      --fill-color: #1967D2;\n",
              "      --hover-bg-color: #E2EBFA;\n",
              "      --hover-fill-color: #174EA6;\n",
              "      --disabled-fill-color: #AAA;\n",
              "      --disabled-bg-color: #DDD;\n",
              "  }\n",
              "\n",
              "  [theme=dark] .colab-df-quickchart {\n",
              "      --bg-color: #3B4455;\n",
              "      --fill-color: #D2E3FC;\n",
              "      --hover-bg-color: #434B5C;\n",
              "      --hover-fill-color: #FFFFFF;\n",
              "      --disabled-bg-color: #3B4455;\n",
              "      --disabled-fill-color: #666;\n",
              "  }\n",
              "\n",
              "  .colab-df-quickchart {\n",
              "    background-color: var(--bg-color);\n",
              "    border: none;\n",
              "    border-radius: 50%;\n",
              "    cursor: pointer;\n",
              "    display: none;\n",
              "    fill: var(--fill-color);\n",
              "    height: 32px;\n",
              "    padding: 0;\n",
              "    width: 32px;\n",
              "  }\n",
              "\n",
              "  .colab-df-quickchart:hover {\n",
              "    background-color: var(--hover-bg-color);\n",
              "    box-shadow: 0 1px 2px rgba(60, 64, 67, 0.3), 0 1px 3px 1px rgba(60, 64, 67, 0.15);\n",
              "    fill: var(--button-hover-fill-color);\n",
              "  }\n",
              "\n",
              "  .colab-df-quickchart-complete:disabled,\n",
              "  .colab-df-quickchart-complete:disabled:hover {\n",
              "    background-color: var(--disabled-bg-color);\n",
              "    fill: var(--disabled-fill-color);\n",
              "    box-shadow: none;\n",
              "  }\n",
              "\n",
              "  .colab-df-spinner {\n",
              "    border: 2px solid var(--fill-color);\n",
              "    border-color: transparent;\n",
              "    border-bottom-color: var(--fill-color);\n",
              "    animation:\n",
              "      spin 1s steps(1) infinite;\n",
              "  }\n",
              "\n",
              "  @keyframes spin {\n",
              "    0% {\n",
              "      border-color: transparent;\n",
              "      border-bottom-color: var(--fill-color);\n",
              "      border-left-color: var(--fill-color);\n",
              "    }\n",
              "    20% {\n",
              "      border-color: transparent;\n",
              "      border-left-color: var(--fill-color);\n",
              "      border-top-color: var(--fill-color);\n",
              "    }\n",
              "    30% {\n",
              "      border-color: transparent;\n",
              "      border-left-color: var(--fill-color);\n",
              "      border-top-color: var(--fill-color);\n",
              "      border-right-color: var(--fill-color);\n",
              "    }\n",
              "    40% {\n",
              "      border-color: transparent;\n",
              "      border-right-color: var(--fill-color);\n",
              "      border-top-color: var(--fill-color);\n",
              "    }\n",
              "    60% {\n",
              "      border-color: transparent;\n",
              "      border-right-color: var(--fill-color);\n",
              "    }\n",
              "    80% {\n",
              "      border-color: transparent;\n",
              "      border-right-color: var(--fill-color);\n",
              "      border-bottom-color: var(--fill-color);\n",
              "    }\n",
              "    90% {\n",
              "      border-color: transparent;\n",
              "      border-bottom-color: var(--fill-color);\n",
              "    }\n",
              "  }\n",
              "</style>\n",
              "\n",
              "  <script>\n",
              "    async function quickchart(key) {\n",
              "      const quickchartButtonEl =\n",
              "        document.querySelector('#' + key + ' button');\n",
              "      quickchartButtonEl.disabled = true;  // To prevent multiple clicks.\n",
              "      quickchartButtonEl.classList.add('colab-df-spinner');\n",
              "      try {\n",
              "        const charts = await google.colab.kernel.invokeFunction(\n",
              "            'suggestCharts', [key], {});\n",
              "      } catch (error) {\n",
              "        console.error('Error during call to suggestCharts:', error);\n",
              "      }\n",
              "      quickchartButtonEl.classList.remove('colab-df-spinner');\n",
              "      quickchartButtonEl.classList.add('colab-df-quickchart-complete');\n",
              "    }\n",
              "    (() => {\n",
              "      let quickchartButtonEl =\n",
              "        document.querySelector('#df-c5070ec0-5a84-466b-b46e-0bad74028497 button');\n",
              "      quickchartButtonEl.style.display =\n",
              "        google.colab.kernel.accessAllowed ? 'block' : 'none';\n",
              "    })();\n",
              "  </script>\n",
              "</div>\n",
              "\n",
              "    </div>\n",
              "  </div>\n"
            ],
            "application/vnd.google.colaboratory.intrinsic+json": {
              "type": "dataframe",
              "summary": "{\n  \"name\": \"display(data\",\n  \"rows\": 5,\n  \"fields\": [\n    {\n      \"column\": \"d1\",\n      \"properties\": {\n        \"dtype\": \"number\",\n        \"std\": 1.146603450272662,\n        \"min\": 5.607558754826204,\n        \"max\": 8.762425961574198,\n        \"num_unique_values\": 5,\n        \"samples\": [\n          6.920356252765335,\n          5.607558754826204,\n          8.762425961574198\n        ],\n        \"semantic_type\": \"\",\n        \"description\": \"\"\n      }\n    },\n    {\n      \"column\": \"d2\",\n      \"properties\": {\n        \"dtype\": \"number\",\n        \"std\": 0.9587633955506426,\n        \"min\": 6.712626364598703,\n        \"max\": 8.945942310784853,\n        \"num_unique_values\": 5,\n        \"samples\": [\n          6.712626364598703,\n          8.50624952128948,\n          7.111202688426856\n        ],\n        \"semantic_type\": \"\",\n        \"description\": \"\"\n      }\n    },\n    {\n      \"column\": \"d3\",\n      \"properties\": {\n        \"dtype\": \"number\",\n        \"std\": 0.8558029050343112,\n        \"min\": 6.165044101312129,\n        \"max\": 8.482912200885336,\n        \"num_unique_values\": 5,\n        \"samples\": [\n          8.482912200885336,\n          7.563135055554506,\n          7.373695470619673\n        ],\n        \"semantic_type\": \"\",\n        \"description\": \"\"\n      }\n    },\n    {\n      \"column\": \"d4\",\n      \"properties\": {\n        \"dtype\": \"number\",\n        \"std\": 0.615593780314521,\n        \"min\": 6.678150722481487,\n        \"max\": 8.055652326272998,\n        \"num_unique_values\": 5,\n        \"samples\": [\n          7.191989381228889,\n          6.678150722481487,\n          8.055652326272998\n        ],\n        \"semantic_type\": \"\",\n        \"description\": \"\"\n      }\n    },\n    {\n      \"column\": \"d5\",\n      \"properties\": {\n        \"dtype\": \"number\",\n        \"std\": 0.3388105540893816,\n        \"min\": 6.655667057301796,\n        \"max\": 7.596051023784951,\n        \"num_unique_values\": 5,\n        \"samples\": [\n          7.027056763244851,\n          6.97599994316913,\n          7.046092390515287\n        ],\n        \"semantic_type\": \"\",\n        \"description\": \"\"\n      }\n    },\n    {\n      \"column\": \"d6\",\n      \"properties\": {\n        \"dtype\": \"number\",\n        \"std\": 0.4895825366264796,\n        \"min\": 9.723463718202082,\n        \"max\": 10.924655997685678,\n        \"num_unique_values\": 5,\n        \"samples\": [\n          10.514893471711613,\n          9.723463718202082,\n          10.924655997685678\n        ],\n        \"semantic_type\": \"\",\n        \"description\": \"\"\n      }\n    }\n  ]\n}"
            }
          },
          "metadata": {}
        }
      ],
      "source": [
        "data = pd.read_parquet(\"https://raw.githubusercontent.com/mindlab-unal/mlds6-datasets/main/u4/stocks.parquet\")\n",
        "display(data.head())"
      ]
    },
    {
      "cell_type": "markdown",
      "metadata": {
        "id": "zy4igwl5LBt-"
      },
      "source": [
        "## **1. Selección de Datos**\n",
        "---\n",
        "En este punto deberá separar la columna objetivo de las variables que serán entrada para el modelo.\n",
        "\n",
        "Para esto debe implementar la función `get_xy` la cual toma como entrada el conjunto de datos y debe retornar la matriz de características y el vector de etiquetas.\n",
        "\n",
        "**Parámetros**\n",
        "\n",
        "- `df`: conjunto de datos como un `pd.DataFrame`.\n",
        "\n",
        "**Retorna**\n",
        "\n",
        "- `features`: arreglo de `numpy` con las características.\n",
        "- `labels`: arreglo de `numpy` con las etiquetas."
      ]
    },
    {
      "cell_type": "code",
      "execution_count": 9,
      "metadata": {
        "id": "mWSd50aALJB8"
      },
      "outputs": [],
      "source": [
        "# FUNCIÓN CALIFICADA get_xy\n",
        "def get_xy(df):\n",
        "    ### ESCRIBA SU CÓDIGO AQUÍ ###\n",
        "    features = df.drop(\"d6\", axis=1).values\n",
        "    labels = df[\"d6\"].values\n",
        "    return features, labels\n",
        "    ### FIN DEL CÓDIGO ###"
      ]
    },
    {
      "cell_type": "markdown",
      "metadata": {
        "id": "vwI9L3JBLN_K"
      },
      "source": [
        "Use las siguientes celdas para probar su solución:"
      ]
    },
    {
      "cell_type": "code",
      "execution_count": 10,
      "metadata": {
        "id": "nlP_P8WqLNY9",
        "colab": {
          "base_uri": "https://localhost:8080/",
          "height": 34
        },
        "outputId": "a31ea7ea-2aa2-4115-802a-afc5778d503d"
      },
      "outputs": [
        {
          "output_type": "display_data",
          "data": {
            "text/plain": [
              "34949.00878930474"
            ]
          },
          "metadata": {}
        }
      ],
      "source": [
        "#TEST_CELL\n",
        "features, labels = get_xy(data)\n",
        "display(features.sum())"
      ]
    },
    {
      "cell_type": "markdown",
      "metadata": {
        "id": "7rDJViUrLRhe"
      },
      "source": [
        "El resultado de la celda anterior debería ser:\n",
        "\n",
        "```python\n",
        "❱ display(features.sum())\n",
        "34949.00878930474\n",
        "```"
      ]
    },
    {
      "cell_type": "code",
      "execution_count": 11,
      "metadata": {
        "id": "7KVVD5lKLR8I",
        "colab": {
          "base_uri": "https://localhost:8080/",
          "height": 52
        },
        "outputId": "2b1bc01a-2f5d-4880-dba9-6585a6e58e38"
      },
      "outputs": [
        {
          "output_type": "display_data",
          "data": {
            "text/plain": [
              "(1000, 5)"
            ]
          },
          "metadata": {}
        },
        {
          "output_type": "display_data",
          "data": {
            "text/plain": [
              "(1000,)"
            ]
          },
          "metadata": {}
        }
      ],
      "source": [
        "#TEST_CELL\n",
        "features, labels = get_xy(data)\n",
        "display(features.shape)\n",
        "display(labels.shape)"
      ]
    },
    {
      "cell_type": "markdown",
      "metadata": {
        "id": "rYlPQ2cDLTJN"
      },
      "source": [
        "El resultado de la celda anterior debería dar los tamaños esperados de los arreglos:\n",
        "\n",
        "```python\n",
        "❱ display(features.shape)\n",
        "(1000, 5)\n",
        "\n",
        "❱ display(labels.shape)\n",
        "(1000,)\n",
        "```"
      ]
    },
    {
      "cell_type": "markdown",
      "metadata": {
        "id": "kAsG3vcvgQ29"
      },
      "source": [
        "<details>\n",
        "<summary>\n",
        "    <font size=\"3\" color=\"darkgreen\"><b>Pista 1</b></font>\n",
        "</summary>\n",
        "\n",
        "* Recuerde convertir la matriz de características y el vector de etiquetas a arreglos de `numpy`.\n",
        "</details>"
      ]
    },
    {
      "cell_type": "markdown",
      "metadata": {
        "id": "09aaEP4hgaRJ"
      },
      "source": [
        "<details>\n",
        "<summary>\n",
        "    <font size=\"3\" color=\"darkgreen\"><b>Pista 2</b></font>\n",
        "</summary>\n",
        "\n",
        "* Puede usar el método `drop` para excluir una columna del `DataFrame`.\n",
        "</details>"
      ]
    },
    {
      "cell_type": "markdown",
      "metadata": {
        "id": "piBujd3dLq2K"
      },
      "source": [
        "### **Evaluar código**"
      ]
    },
    {
      "cell_type": "code",
      "execution_count": 12,
      "metadata": {
        "id": "8vZaPRU7FDum",
        "colab": {
          "base_uri": "https://localhost:8080/",
          "height": 141
        },
        "outputId": "1d24bae6-bcf2-4641-c2ce-d70a2f74067d"
      },
      "outputs": [
        {
          "output_type": "stream",
          "name": "stdout",
          "text": [
            "Test 1_1\n"
          ]
        },
        {
          "output_type": "display_data",
          "data": {
            "text/plain": [
              "<IPython.core.display.HTML object>"
            ],
            "text/html": [
              "<h4>Test Run correctly</h4>"
            ]
          },
          "metadata": {}
        },
        {
          "output_type": "display_data",
          "data": {
            "text/plain": [
              "<IPython.core.display.HTML object>"
            ],
            "text/html": [
              "<h6 style=\"color: green;\">Your test grade: 100</h6>\n",
              "<h6>Feedback: Probando código ejemplo.</h6>"
            ]
          },
          "metadata": {}
        }
      ],
      "source": [
        "grader.run_test(\"Test 1_1\", globals())"
      ]
    },
    {
      "cell_type": "markdown",
      "metadata": {
        "id": "jha94e9kRH37"
      },
      "source": [
        "## **2. Creación del Repositorio**\n",
        "---\n",
        "\n",
        "En este punto deberá crear un repositorio de `git` de la siguiente forma:\n",
        "\n",
        "1. El nombre del repositorio debe ser `stocks`.\n",
        "2. Debe ubicarse dentro del repositorio e inicializarlo con `git`.\n",
        "\n",
        "Para esto deberá autenticarse con `git`:"
      ]
    },
    {
      "cell_type": "code",
      "execution_count": 13,
      "metadata": {
        "id": "IB-U8rDrROVP"
      },
      "outputs": [],
      "source": [
        "!git config --global user.email \"jgarnicaa@unal.edu.co\"\n",
        "!git config --global user.name \"jgarnicaa\"\n",
        "!git config --global init.defaultBranch master"
      ]
    },
    {
      "cell_type": "code",
      "execution_count": null,
      "metadata": {
        "id": "gX6UFkiIRH4A"
      },
      "outputs": [],
      "source": [
        "#TEST_CELL\n",
        "\"\"\"\n",
        "    Descomente esta celda si lo requiere\n",
        "    Este comando borrará el directorio stocks\n",
        "    si existe en el directorio actual\n",
        "\"\"\"\n",
        "# ![ -d stocks ] && rm -rf stocks"
      ]
    },
    {
      "cell_type": "code",
      "execution_count": 14,
      "metadata": {
        "id": "2FF_kFR8RvNs",
        "colab": {
          "base_uri": "https://localhost:8080/"
        },
        "outputId": "3d9a8556-6435-4d68-881b-f85bd05cb69a"
      },
      "outputs": [
        {
          "output_type": "stream",
          "name": "stdout",
          "text": [
            "/content/stocks\n",
            "Initialized empty Git repository in /content/stocks/.git/\n"
          ]
        }
      ],
      "source": [
        "# INGRESE SU CÓDIGO AQUÍ\n",
        "!mkdir stocks\n",
        "%cd stocks\n",
        "!git init"
      ]
    },
    {
      "cell_type": "markdown",
      "metadata": {
        "id": "9E3G_EUfRH4A"
      },
      "source": [
        "Use las siguientes celdas para probar su solución:"
      ]
    },
    {
      "cell_type": "code",
      "execution_count": 15,
      "metadata": {
        "id": "ClZJx-yvRH4A",
        "colab": {
          "base_uri": "https://localhost:8080/"
        },
        "outputId": "1323f002-0661-4e91-c322-3295a83fc9d7"
      },
      "outputs": [
        {
          "output_type": "stream",
          "name": "stdout",
          "text": [
            "stocks\n"
          ]
        }
      ],
      "source": [
        "#TEST_CELL\n",
        "!pwd | awk -F '/' '{print $NF}'"
      ]
    },
    {
      "cell_type": "markdown",
      "metadata": {
        "id": "opSmJZ7RRH4B"
      },
      "source": [
        "**Salida esperada**\n",
        "\n",
        "En este caso debería obtener el nombre del repositorio:\n",
        "\n",
        "```python\n",
        "❱ !pwd | awk -F '/' '{print $NF}'\n",
        "stocks\n",
        "```"
      ]
    },
    {
      "cell_type": "code",
      "execution_count": 16,
      "metadata": {
        "id": "nLoOVnlGRH4B",
        "colab": {
          "base_uri": "https://localhost:8080/"
        },
        "outputId": "3ce84fbd-4a70-4c4c-b73f-88473446592f"
      },
      "outputs": [
        {
          "output_type": "stream",
          "name": "stdout",
          "text": [
            "On branch master\n",
            "\n",
            "No commits yet\n",
            "\n",
            "nothing to commit (create/copy files and use \"git add\" to track)\n"
          ]
        }
      ],
      "source": [
        "#TEST_CELL\n",
        "!git status"
      ]
    },
    {
      "cell_type": "markdown",
      "metadata": {
        "id": "96U5sAOyRH4B"
      },
      "source": [
        "**Salida esperada**\n",
        "\n",
        "En este caso se valida que estemos dentro de un repositorio de `git`.\n",
        "\n",
        "```python\n",
        "❱ !git status\n",
        "On branch main\n",
        "\n",
        "No commits yet\n",
        "\n",
        "nothing to commit (create/copy files and use \"git add\" to track)\n",
        "```"
      ]
    },
    {
      "cell_type": "markdown",
      "metadata": {
        "id": "Bx_4KxHTRH4B"
      },
      "source": [
        "<details>\n",
        "<summary>\n",
        "    <font size=\"3\" color=\"darkgreen\"><b>Pista 1</b></font>\n",
        "</summary>\n",
        "\n",
        "* Recuerde que con `mkdir` puede crear carpetas.\n",
        "</details>"
      ]
    },
    {
      "cell_type": "markdown",
      "metadata": {
        "id": "l_BQZCl1RH4B"
      },
      "source": [
        "<details>\n",
        "<summary>\n",
        "    <font size=\"3\" color=\"darkgreen\"><b>Pista 2</b></font>\n",
        "</summary>\n",
        "\n",
        "* El comando `%cd` es necesario para movimientos dentro de linux.\n",
        "</details>"
      ]
    },
    {
      "cell_type": "markdown",
      "metadata": {
        "id": "G9HvDEv-RgZ8"
      },
      "source": [
        "<details>\n",
        "<summary>\n",
        "    <font size=\"3\" color=\"darkgreen\"><b>Pista 3</b></font>\n",
        "</summary>\n",
        "\n",
        "* Recuerde que dentro de un terminal, el comando `git` le permite realizar cualquier operación con un repositorio.\n",
        "</details>"
      ]
    },
    {
      "cell_type": "markdown",
      "metadata": {
        "id": "buQPz0fKRH4B"
      },
      "source": [
        "### **Evaluar código**"
      ]
    },
    {
      "cell_type": "markdown",
      "metadata": {
        "id": "YqPOZ1hNjJgO"
      },
      "source": [
        "> **Esta celda debe ser ejecutada obligatoriamente antes de evaluar el ejercicio**"
      ]
    },
    {
      "cell_type": "code",
      "execution_count": 17,
      "metadata": {
        "id": "uXhh1Z7llJmk"
      },
      "outputs": [],
      "source": [
        "result = subprocess.run(['pwd'], stdout=subprocess.PIPE)\n",
        "current_directory = result.stdout.decode('utf-8').strip().split('/')[-1]"
      ]
    },
    {
      "cell_type": "code",
      "execution_count": 18,
      "metadata": {
        "id": "ormZejjLRH4C",
        "colab": {
          "base_uri": "https://localhost:8080/",
          "height": 141
        },
        "outputId": "493aa74d-1c21-490d-d285-b7fd9b8036d8"
      },
      "outputs": [
        {
          "output_type": "stream",
          "name": "stdout",
          "text": [
            "Test 2_1\n"
          ]
        },
        {
          "output_type": "display_data",
          "data": {
            "text/plain": [
              "<IPython.core.display.HTML object>"
            ],
            "text/html": [
              "<h4>Test Run correctly</h4>"
            ]
          },
          "metadata": {}
        },
        {
          "output_type": "display_data",
          "data": {
            "text/plain": [
              "<IPython.core.display.HTML object>"
            ],
            "text/html": [
              "<h6 style=\"color: green;\">Your test grade: 100</h6>\n",
              "<h6>Feedback: Probando código ejemplo.</h6>"
            ]
          },
          "metadata": {}
        }
      ],
      "source": [
        "grader.run_test(\"Test 2_1\", globals())"
      ]
    },
    {
      "cell_type": "markdown",
      "metadata": {
        "id": "Xuo4Z1UnTvar"
      },
      "source": [
        "## **3. Modelamiento**\n",
        "---\n",
        "\n",
        "En este punto deberá entrenar un modelo de máquina de soporte vectorial para regresión a partir de los datos.\n",
        "\n",
        "Para esto debe implementar la función `train_model` la cual toma como entrada la matriz de características y el vector de etiquetas y debe retornar el modelo entrenado.\n",
        "\n",
        "**Parámetros**\n",
        "\n",
        "- `features`: arreglo de `numpy` con las características.\n",
        "- `labels`: arreglo de `numpy` con las etiquetas.\n",
        "\n",
        "**Retorna**\n",
        "\n",
        "- `model`: modelo entrenado."
      ]
    },
    {
      "cell_type": "code",
      "execution_count": 19,
      "metadata": {
        "id": "SnAUUGc0TxS6"
      },
      "outputs": [],
      "source": [
        "# FUNCIÓN CALIFICADA train_model\n",
        "def train_model(features, labels):\n",
        "    ### ESCRIBA SU CÓDIGO AQUÍ ###\n",
        "    model = SVR()\n",
        "    model.fit(features, labels)\n",
        "    return model\n",
        "    ### FIN DEL CÓDIGO ###"
      ]
    },
    {
      "cell_type": "markdown",
      "metadata": {
        "id": "9C6u-T7QT6bG"
      },
      "source": [
        "Use las siguientes celdas para probar su solución:"
      ]
    },
    {
      "cell_type": "code",
      "execution_count": 20,
      "metadata": {
        "id": "VlKeuFUBT6pg",
        "colab": {
          "base_uri": "https://localhost:8080/"
        },
        "outputId": "73b93255-bb6b-4c75-bfb3-419f0c3893e9"
      },
      "outputs": [
        {
          "output_type": "stream",
          "name": "stdout",
          "text": [
            "0.9804584510787114\n"
          ]
        }
      ],
      "source": [
        "#TEST_CELL\n",
        "features, labels = get_xy(data)\n",
        "model = train_model(features, labels)\n",
        "print(model.score(features, labels))"
      ]
    },
    {
      "cell_type": "markdown",
      "metadata": {
        "id": "PDqFfhbxT_C9"
      },
      "source": [
        "El resultado de la celda anterior debería ser:\n",
        "\n",
        "```python\n",
        "❱ print(model.score(features, labels))\n",
        "0.9804584510787114\n",
        "```"
      ]
    },
    {
      "cell_type": "markdown",
      "metadata": {
        "id": "tX569YPQUB61"
      },
      "source": [
        "<details>\n",
        "<summary>\n",
        "    <font size=\"3\" color=\"darkgreen\"><b>Pista 1</b></font>\n",
        "</summary>\n",
        "\n",
        "* Recuerde que la clase `SVR` le permite definir una máquina de soporte vectorial para regresión.\n",
        "</details>"
      ]
    },
    {
      "cell_type": "markdown",
      "metadata": {
        "id": "YZLQRY_tUIkZ"
      },
      "source": [
        "<details>\n",
        "<summary>\n",
        "    <font size=\"3\" color=\"darkgreen\"><b>Pista 2</b></font>\n",
        "</summary>\n",
        "\n",
        "* Tenga en cuenta que el modelo debe ser entrenado antes de retornarlo.\n",
        "</details>"
      ]
    },
    {
      "cell_type": "markdown",
      "metadata": {
        "id": "JpkrZEcyULKU"
      },
      "source": [
        "### **Evaluar código**"
      ]
    },
    {
      "cell_type": "code",
      "execution_count": 21,
      "metadata": {
        "id": "OZJ9SIszYRAp",
        "colab": {
          "base_uri": "https://localhost:8080/",
          "height": 141
        },
        "outputId": "e88b840a-372d-4090-d3f3-e44ce89e5393"
      },
      "outputs": [
        {
          "output_type": "stream",
          "name": "stdout",
          "text": [
            "Test 3_1\n"
          ]
        },
        {
          "output_type": "display_data",
          "data": {
            "text/plain": [
              "<IPython.core.display.HTML object>"
            ],
            "text/html": [
              "<h4>Test Run correctly</h4>"
            ]
          },
          "metadata": {}
        },
        {
          "output_type": "display_data",
          "data": {
            "text/plain": [
              "<IPython.core.display.HTML object>"
            ],
            "text/html": [
              "<h6 style=\"color: green;\">Your test grade: 100</h6>\n",
              "<h6>Feedback: Probando código ejemplo.</h6>"
            ]
          },
          "metadata": {}
        }
      ],
      "source": [
        "grader.run_test(\"Test 3_1\", globals())"
      ]
    },
    {
      "cell_type": "markdown",
      "metadata": {
        "id": "iy9tuXv8Y0-I"
      },
      "source": [
        "## **4. Persistencia de Modelo**\n",
        "---\n",
        "\n",
        "En este punto deberá escribir una función que permita guardar un modelo entrenado con el nombre `model.joblib`.\n",
        "\n",
        "Para esto, debe implementar la función `save_model` la cual toma como entrada un modelo entrenado y la ruta de almacenamiento del archivo para guardarlo.\n",
        "\n",
        "**Parámetros**\n",
        "\n",
        "- `model`: modelo entrenado.\n",
        "- `path`: ruta donde se guardará el modelo."
      ]
    },
    {
      "cell_type": "code",
      "execution_count": 24,
      "metadata": {
        "id": "ZrASuB5LY7Op"
      },
      "outputs": [],
      "source": [
        "# FUNCIÓN CALIFICADA save_model\n",
        "def save_model(model, path):\n",
        "    ### ESCRIBA SU CÓDIGO AQUÍ ###\n",
        "    joblib.dump(model, path)\n",
        "    ### FIN DEL CÓDIGO ###"
      ]
    },
    {
      "cell_type": "markdown",
      "metadata": {
        "id": "RE0Fv4dkY7Oq"
      },
      "source": [
        "Use las siguientes celdas para probar su solución:"
      ]
    },
    {
      "cell_type": "code",
      "execution_count": 25,
      "metadata": {
        "id": "3ivSgRcQY7Oq",
        "colab": {
          "base_uri": "https://localhost:8080/"
        },
        "outputId": "d7562cb0-64a9-4b17-80aa-b4df6a518615"
      },
      "outputs": [
        {
          "output_type": "stream",
          "name": "stdout",
          "text": [
            "total 28K\n",
            "28K model.joblib\n"
          ]
        }
      ],
      "source": [
        "#TEST_CELL\n",
        "save_model(model, \"model.joblib\")\n",
        "!ls -sh"
      ]
    },
    {
      "cell_type": "markdown",
      "metadata": {
        "id": "t-nTYwaUZM3A"
      },
      "source": [
        "El resultado de la celda anterior debería ser:\n",
        "\n",
        "```python\n",
        "❱ !ls -sh\n",
        "total 28K\n",
        "28K model.joblib\n",
        "```"
      ]
    },
    {
      "cell_type": "markdown",
      "metadata": {
        "id": "o_GdhuFgY7Oq"
      },
      "source": [
        "<details>\n",
        "<summary>\n",
        "    <font size=\"3\" color=\"darkgreen\"><b>Pista 1</b></font>\n",
        "</summary>\n",
        "\n",
        "* Recuerde que puede usar la librería `joblib` para guardar modelos de `sklearn`.\n",
        "</details>"
      ]
    },
    {
      "cell_type": "markdown",
      "metadata": {
        "id": "8ZkSVaIUY7Oq"
      },
      "source": [
        "<details>\n",
        "<summary>\n",
        "    <font size=\"3\" color=\"darkgreen\"><b>Pista 2</b></font>\n",
        "</summary>\n",
        "\n",
        "* Revise el funcionamiento de la función `joblib.dump`.\n",
        "</details>"
      ]
    },
    {
      "cell_type": "markdown",
      "metadata": {
        "id": "2co_YvCzY7Oq"
      },
      "source": [
        "### **Evaluar código**"
      ]
    },
    {
      "cell_type": "markdown",
      "metadata": {
        "id": "tHJJQ1lolXmw"
      },
      "source": [
        "> **Esta celda debe ser ejecutada obligatoriamente antes de evaluar el ejercicio**"
      ]
    },
    {
      "cell_type": "code",
      "execution_count": 26,
      "metadata": {
        "id": "OrtX8NxElWjH"
      },
      "outputs": [],
      "source": [
        "save_model(model, \"model.joblib\")\n",
        "comm = subprocess.check_output(['ls', '-sh'])\n",
        "saved_directory = (comm.decode('utf-8')).split()"
      ]
    },
    {
      "cell_type": "code",
      "execution_count": 27,
      "metadata": {
        "id": "VHfyQJtrY7Or",
        "colab": {
          "base_uri": "https://localhost:8080/",
          "height": 141
        },
        "outputId": "33f9511b-8813-4efc-e05b-53e52c12016e"
      },
      "outputs": [
        {
          "output_type": "stream",
          "name": "stdout",
          "text": [
            "Test 4_1\n"
          ]
        },
        {
          "output_type": "display_data",
          "data": {
            "text/plain": [
              "<IPython.core.display.HTML object>"
            ],
            "text/html": [
              "<h4>Test Run correctly</h4>"
            ]
          },
          "metadata": {}
        },
        {
          "output_type": "display_data",
          "data": {
            "text/plain": [
              "<IPython.core.display.HTML object>"
            ],
            "text/html": [
              "<h6 style=\"color: green;\">Your test grade: 100</h6>\n",
              "<h6>Feedback: Probando código ejemplo.</h6>"
            ]
          },
          "metadata": {}
        }
      ],
      "source": [
        "grader.run_test(\"Test 4_1\", globals())"
      ]
    },
    {
      "cell_type": "markdown",
      "metadata": {
        "id": "Gxi8we3BcjkZ"
      },
      "source": [
        "## **5. Estructuración de API**\n",
        "---\n",
        "\n",
        "En este punto deberá escribir una clase que representará la entrada y la salida de un API para el modelo en `fastapi`.\n",
        "\n",
        "Para esto debe implementar las clases `ApiInput` y `ApiOutput` con las siguientes consideranciones:\n",
        "\n",
        "- `ApiInput`: debe tener un atributo llamado `features` que tenga tipo `List[float]`.\n",
        "- `ApiOutput`: debe tener un atributo llamado `forecast` que sea de tipo `float`."
      ]
    },
    {
      "cell_type": "code",
      "execution_count": 28,
      "metadata": {
        "id": "85TZkgTucnoD"
      },
      "outputs": [],
      "source": [
        "# CLASE CALIFICADA ApiInput\n",
        "class ApiInput(BaseModel):\n",
        "    ### ESCRIBA SU CÓDIGO AQUÍ ###\n",
        "    features: List[float]\n",
        "    ### FIN DEL CÓDIGO ###"
      ]
    },
    {
      "cell_type": "code",
      "execution_count": 29,
      "metadata": {
        "id": "cRytnBqsc2Oh"
      },
      "outputs": [],
      "source": [
        "# CLASE CALIFICADA ApiOutput\n",
        "class ApiOutput(BaseModel):\n",
        "    ### ESCRIBA SU CÓDIGO AQUÍ ###\n",
        "    forecast: float\n",
        "    ### FIN DEL CÓDIGO ###"
      ]
    },
    {
      "cell_type": "markdown",
      "metadata": {
        "id": "4jDepD3YcnoD"
      },
      "source": [
        "Use las siguientes celdas para probar su solución:"
      ]
    },
    {
      "cell_type": "code",
      "execution_count": 30,
      "metadata": {
        "id": "OawqPt69cnoD",
        "colab": {
          "base_uri": "https://localhost:8080/",
          "height": 34
        },
        "outputId": "f4b1d39c-1027-43a8-d941-b39ebcf88427"
      },
      "outputs": [
        {
          "output_type": "display_data",
          "data": {
            "text/plain": [
              "ApiInput(features=[1.1, 2.2, 3.3])"
            ]
          },
          "metadata": {}
        }
      ],
      "source": [
        "#TEST_CELL\n",
        "inp = ApiInput(features=[1.1, 2.2, 3.3])\n",
        "display(inp)"
      ]
    },
    {
      "cell_type": "markdown",
      "metadata": {
        "id": "cdGDYSXRc9CC"
      },
      "source": [
        "El resultado de la celda anterior debería ser:\n",
        "\n",
        "```python\n",
        "❱ display(inp)\n",
        "ApiInput(features=[1.1, 2.2, 3.3])\n",
        "```"
      ]
    },
    {
      "cell_type": "code",
      "execution_count": 31,
      "metadata": {
        "id": "nF1jltntdANF",
        "colab": {
          "base_uri": "https://localhost:8080/",
          "height": 34
        },
        "outputId": "281a9ed1-cc88-4879-ce21-0501656ab735"
      },
      "outputs": [
        {
          "output_type": "display_data",
          "data": {
            "text/plain": [
              "ApiOutput(forecast=4.5)"
            ]
          },
          "metadata": {}
        }
      ],
      "source": [
        "#TEST_CELL\n",
        "out = ApiOutput(forecast=4.5)\n",
        "display(out)"
      ]
    },
    {
      "cell_type": "markdown",
      "metadata": {
        "id": "ROcsKrSPdAsq"
      },
      "source": [
        "El resultado de la celda anterior debería ser:\n",
        "\n",
        "```python\n",
        "❱ display(out)\n",
        "ApiOutput(forecast=4.5)\n",
        "```"
      ]
    },
    {
      "cell_type": "markdown",
      "metadata": {
        "id": "UbE7ynVYcnoE"
      },
      "source": [
        "<details>\n",
        "<summary>\n",
        "    <font size=\"3\" color=\"darkgreen\"><b>Pista 1</b></font>\n",
        "</summary>\n",
        "\n",
        "* Las clases que estructuran las entradas del API deberán heredar de `BaseModel`.\n",
        "</details>"
      ]
    },
    {
      "cell_type": "markdown",
      "metadata": {
        "id": "mxMTXYwPcnoE"
      },
      "source": [
        "<details>\n",
        "<summary>\n",
        "    <font size=\"3\" color=\"darkgreen\"><b>Pista 2</b></font>\n",
        "</summary>\n",
        "\n",
        "* Recuerde utilizar la notación `:` para especificar anotaciones de tipo.\n",
        "</details>"
      ]
    },
    {
      "cell_type": "markdown",
      "metadata": {
        "id": "CmoQSrvscnoE"
      },
      "source": [
        "### **Evaluar código**"
      ]
    },
    {
      "cell_type": "markdown",
      "metadata": {
        "id": "kXdhJKXD2a88"
      },
      "source": [
        "> **Esta celda debe ser ejecutada obligatoriamente antes de evaluar el ejercicio**"
      ]
    },
    {
      "cell_type": "code",
      "execution_count": 32,
      "metadata": {
        "id": "tIvs_Ffj6ELo"
      },
      "outputs": [],
      "source": [
        "\"\"\"\n",
        "    Esta celda debe ser ejecutada obligatoriamente antes de evaluar el código.\n",
        "    No la debe modificar\n",
        "\"\"\"\n",
        "\n",
        "def get_api_input(features: List[float]) -> ApiInput:\n",
        "    return ApiInput(features=features)\n",
        "\n",
        "def get_api_output(forecast: float) -> ApiOutput:\n",
        "    return ApiOutput(forecast=forecast)"
      ]
    },
    {
      "cell_type": "code",
      "execution_count": 33,
      "metadata": {
        "id": "9q33uDLGcnoE",
        "colab": {
          "base_uri": "https://localhost:8080/",
          "height": 141
        },
        "outputId": "da70242a-ac52-4d08-ff05-1dd9f61af69c"
      },
      "outputs": [
        {
          "output_type": "stream",
          "name": "stdout",
          "text": [
            "Test 5_1\n"
          ]
        },
        {
          "output_type": "display_data",
          "data": {
            "text/plain": [
              "<IPython.core.display.HTML object>"
            ],
            "text/html": [
              "<h4>Test Run correctly</h4>"
            ]
          },
          "metadata": {}
        },
        {
          "output_type": "display_data",
          "data": {
            "text/plain": [
              "<IPython.core.display.HTML object>"
            ],
            "text/html": [
              "<h6 style=\"color: green;\">Your test grade: 100</h6>\n",
              "<h6>Feedback: Probando código ejemplo.</h6>"
            ]
          },
          "metadata": {}
        }
      ],
      "source": [
        "grader.run_test(\"Test 5_1\", globals())"
      ]
    },
    {
      "cell_type": "markdown",
      "metadata": {
        "id": "q9it0cdMfhhr"
      },
      "source": [
        "## **6. Función del API**\n",
        "---\n",
        "\n",
        "En este punto deberá implementar una función que a partir de la clase de entrada, genere la clase de salida por medio del modelo.\n",
        "\n",
        "Para esto debe utilizar la función `predict`, la cual toma como entrada un `ApiInput` y debe generar un `ApiOutput` al cargar y utilizar el modelo guardado en la ruta `model.joblib`.\n",
        "\n",
        "**Parámetros**\n",
        "\n",
        "- `data`: un objeto de tipo `ApiInput`.\n",
        "\n",
        "**Retorna**\n",
        "\n",
        "- `prediction`: un objeto de tipo `ApiOutput`."
      ]
    },
    {
      "cell_type": "code",
      "execution_count": 38,
      "metadata": {
        "id": "e5WG8g4MfpYk"
      },
      "outputs": [],
      "source": [
        "# FUNCIÓN CALIFICADA train_model\n",
        "def predict(data: ApiInput) -> ApiOutput:\n",
        "    ### ESCRIBA SU CÓDIGO AQUÍ ###\n",
        "    model = joblib.load(\"model.joblib\") # cargamos el modelo.\n",
        "    prediction = model.predict([data.features])\n",
        "    preds = ApiOutput(forecast=prediction)\n",
        "    return preds\n",
        "    ### FIN DEL CÓDIGO ###"
      ]
    },
    {
      "cell_type": "markdown",
      "metadata": {
        "id": "kj-jhlR9fpYl"
      },
      "source": [
        "Use las siguientes celdas para probar su solución:"
      ]
    },
    {
      "cell_type": "code",
      "execution_count": 39,
      "metadata": {
        "id": "sEqUfikyfpYl",
        "colab": {
          "base_uri": "https://localhost:8080/",
          "height": 52
        },
        "outputId": "3af551df-4673-4a55-f4f4-ec4bf2b54999"
      },
      "outputs": [
        {
          "output_type": "stream",
          "name": "stdout",
          "text": [
            "<class '__main__.ApiInput'> [1.1, 2.2, 3.3, 3.2, 0.9]\n"
          ]
        },
        {
          "output_type": "display_data",
          "data": {
            "text/plain": [
              "ApiOutput(forecast=9.756829361821138)"
            ]
          },
          "metadata": {}
        }
      ],
      "source": [
        "#TEST_CELL\n",
        "inp = ApiInput(features=[1.1, 2.2, 3.3, 3.2, 0.9])\n",
        "print(type(inp), inp.features)\n",
        "\n",
        "pred = predict(inp)\n",
        "display(pred)"
      ]
    },
    {
      "cell_type": "code",
      "execution_count": 40,
      "metadata": {
        "id": "jmJu5-FvIzLk",
        "colab": {
          "base_uri": "https://localhost:8080/",
          "height": 34
        },
        "outputId": "d294d0a7-c8cf-4db3-eb1a-4def84cc90de"
      },
      "outputs": [
        {
          "output_type": "display_data",
          "data": {
            "text/plain": [
              "ApiOutput(forecast=9.756832944562642)"
            ]
          },
          "metadata": {}
        }
      ],
      "source": [
        "inp = ApiInput(features=[52.6, 5.4, 1.85, 9.62, 3.2])\n",
        "pred = predict(inp)\n",
        "display(pred)"
      ]
    },
    {
      "cell_type": "markdown",
      "metadata": {
        "id": "5Z7Y9jidfpYl"
      },
      "source": [
        "El resultado de la celda anterior debería ser:\n",
        "\n",
        "```python\n",
        "❱ display(pred)\n",
        "ApiOutput(forecast=9.756829361821138)\n",
        "```"
      ]
    },
    {
      "cell_type": "markdown",
      "metadata": {
        "id": "ffYHFuPKfpYl"
      },
      "source": [
        "### **Evaluar código**"
      ]
    },
    {
      "cell_type": "code",
      "execution_count": 41,
      "metadata": {
        "id": "2AXvIzfTfpYm",
        "colab": {
          "base_uri": "https://localhost:8080/",
          "height": 141
        },
        "outputId": "2c58c260-9f08-4532-bc09-cb1f690b5501"
      },
      "outputs": [
        {
          "output_type": "stream",
          "name": "stdout",
          "text": [
            "Test 6_1\n"
          ]
        },
        {
          "output_type": "display_data",
          "data": {
            "text/plain": [
              "<IPython.core.display.HTML object>"
            ],
            "text/html": [
              "<h4>Test Run correctly</h4>"
            ]
          },
          "metadata": {}
        },
        {
          "output_type": "display_data",
          "data": {
            "text/plain": [
              "<IPython.core.display.HTML object>"
            ],
            "text/html": [
              "<h6 style=\"color: green;\">Your test grade: 100</h6>\n",
              "<h6>Feedback: Probando código ejemplo.</h6>"
            ]
          },
          "metadata": {}
        }
      ],
      "source": [
        "grader.run_test(\"Test 6_1\", globals())"
      ]
    },
    {
      "cell_type": "markdown",
      "metadata": {
        "id": "x1peoSsNiDbe"
      },
      "source": [
        "## **7. Despliegue del modelo (OPCIONAL)**\n",
        "---\n",
        "\n",
        "En este punto deberá seguir los siguientes pasos:\n",
        "\n",
        "1. Completar el script `main.py`\n",
        "2. Subir todo a un repositorio de github y desplegar el API.\n",
        "\n",
        "Debe completar el siguiente script:\n",
        "\n",
        "> **Nota**: `Railway` solo permite conectar cuentas de _Github_ que tengan una identidad confiable al tener cierta trayectoria, es por eso que si tienes una cuenta nueva no podrás desarrollar este punto en el momento"
      ]
    },
    {
      "cell_type": "code",
      "execution_count": 43,
      "metadata": {
        "id": "3YTf-Z1hiHlh",
        "colab": {
          "base_uri": "https://localhost:8080/"
        },
        "outputId": "7256c0ae-a382-40ad-8f39-e23e8b5bc1b6"
      },
      "outputs": [
        {
          "output_type": "stream",
          "name": "stdout",
          "text": [
            "Writing main.py\n"
          ]
        }
      ],
      "source": [
        "%%writefile main.py\n",
        "from fastapi import FastAPI\n",
        "from pydantic import BaseModel\n",
        "from typing import List\n",
        "import joblib\n",
        "\n",
        "# Reemplace esto con su implementación:\n",
        "class ApiInput(BaseModel):\n",
        "    ### ESCRIBA SU CÓDIGO AQUÍ ###\n",
        "    features: List[float]\n",
        "\n",
        "# Reemplace esto con su implementación:\n",
        "class ApiOutput(BaseModel):\n",
        "    ### ESCRIBA SU CÓDIGO AQUÍ ###\n",
        "    forecast: float\n",
        "\n",
        "app = FastAPI()\n",
        "model = joblib.load(\"model.joblib\")\n",
        "\n",
        "# Reemplace esto con su implementación:\n",
        "@app.post(\"/predict\")\n",
        "async def predict(data: ApiInput) -> ApiOutput:\n",
        "    prediction = model.predict([data.features])\n",
        "    preds = ApiOutput(forecast=prediction)"
      ]
    },
    {
      "cell_type": "markdown",
      "metadata": {
        "id": "kqKIdaCpsyB9"
      },
      "source": [
        "<details>\n",
        "<summary>\n",
        "    <font size=\"3\" color=\"darkgreen\"><b>Pista 1</b></font>\n",
        "</summary>\n",
        "\n",
        "* Recuerde que puede utilizar el procedimiento visto en el notebook `3_fastapi`.\n",
        "</details>"
      ]
    },
    {
      "cell_type": "markdown",
      "metadata": {
        "id": "dspnsoNLiJWb"
      },
      "source": [
        "Utilice los siguientes archivos de configuración:"
      ]
    },
    {
      "cell_type": "code",
      "execution_count": 44,
      "metadata": {
        "id": "PJv3yIDsiJsx",
        "colab": {
          "base_uri": "https://localhost:8080/"
        },
        "outputId": "b0dfa902-aa34-40eb-8679-7f8011b35f2b"
      },
      "outputs": [
        {
          "output_type": "stream",
          "name": "stdout",
          "text": [
            "Writing requirements.txt\n"
          ]
        }
      ],
      "source": [
        "%%writefile requirements.txt\n",
        "scikit-learn\n",
        "fastapi\n",
        "uvicorn"
      ]
    },
    {
      "cell_type": "code",
      "execution_count": 45,
      "metadata": {
        "id": "yKJ7O1jpiLRV",
        "colab": {
          "base_uri": "https://localhost:8080/"
        },
        "outputId": "06647b4a-10bd-4df5-ec47-15ff7aacf512"
      },
      "outputs": [
        {
          "output_type": "stream",
          "name": "stdout",
          "text": [
            "Writing railway.json\n"
          ]
        }
      ],
      "source": [
        "%%writefile railway.json\n",
        "{\n",
        "  \"$schema\": \"https://railway.app/railway.schema.json\",\n",
        "  \"build\": {\n",
        "    \"builder\": \"NIXPACKS\"\n",
        "  },\n",
        "  \"deploy\": {\n",
        "    \"startCommand\": \"uvicorn main:app --host 0.0.0.0 --port $PORT\",\n",
        "    \"restartPolicyType\": \"ON_FAILURE\",\n",
        "    \"restartPolicyMaxRetries\": 10\n",
        "  }\n",
        "}"
      ]
    },
    {
      "cell_type": "markdown",
      "metadata": {
        "id": "xMX8joWaiNeD"
      },
      "source": [
        "Escriba los comandos para subir todo al repositorio de **GitHub**:"
      ]
    },
    {
      "cell_type": "code",
      "execution_count": 46,
      "metadata": {
        "id": "CbLWZRHQK6-L",
        "colab": {
          "base_uri": "https://localhost:8080/"
        },
        "outputId": "4f123537-5347-4430-9170-f7ab526f8cc4"
      },
      "outputs": [
        {
          "output_type": "stream",
          "name": "stdout",
          "text": [
            "[master (root-commit) 39a92ff] AI app for stocks\n",
            " 4 files changed, 37 insertions(+)\n",
            " create mode 100644 main.py\n",
            " create mode 100644 model.joblib\n",
            " create mode 100644 railway.json\n",
            " create mode 100644 requirements.txt\n"
          ]
        }
      ],
      "source": [
        "# INGRESE SU CÓDIGO AQUÍ\n",
        "!git add .\n",
        "!git commit -m \"AI app for stocks\""
      ]
    },
    {
      "cell_type": "code",
      "source": [
        "import re\n",
        "import os\n",
        "token = \"\"  # Agregue su token dentro de las comillas.\n",
        "repo_url = \"https://github.com/jgarnicaa/Stocks_railway.git\" # Agregue la url de su repositorio dentro de las comillas.\n",
        "\n",
        "\n",
        "pat = re.compile(r\"(https://)(.*)\")\n",
        "match = re.match(pat, repo_url)\n",
        "url_token = \"\".join([match.group(1), token, \"@\", match.group(2)])\n",
        "os.environ[\"GITHUB\"] = url_token\n"
      ],
      "metadata": {
        "id": "4Zbxy0zurvJo"
      },
      "execution_count": 47,
      "outputs": []
    },
    {
      "cell_type": "code",
      "source": [
        "!git remote add origin $GITHUB"
      ],
      "metadata": {
        "id": "ZsdNtF11sUIq"
      },
      "execution_count": 48,
      "outputs": []
    },
    {
      "cell_type": "code",
      "source": [
        "!git push origin master"
      ],
      "metadata": {
        "colab": {
          "base_uri": "https://localhost:8080/"
        },
        "id": "jwMoUQuCsU9t",
        "outputId": "95ce8c78-a1de-4a7a-aeb8-2ba85d08e944"
      },
      "execution_count": 49,
      "outputs": [
        {
          "output_type": "stream",
          "name": "stdout",
          "text": [
            "Enumerating objects: 6, done.\n",
            "Counting objects:  16% (1/6)\rCounting objects:  33% (2/6)\rCounting objects:  50% (3/6)\rCounting objects:  66% (4/6)\rCounting objects:  83% (5/6)\rCounting objects: 100% (6/6)\rCounting objects: 100% (6/6), done.\n",
            "Delta compression using up to 2 threads\n",
            "Compressing objects:  20% (1/5)\rCompressing objects:  40% (2/5)\rCompressing objects:  60% (3/5)\rCompressing objects:  80% (4/5)\rCompressing objects: 100% (5/5)\rCompressing objects: 100% (5/5), done.\n",
            "Writing objects:  16% (1/6)\rWriting objects:  33% (2/6)\rWriting objects:  50% (3/6)\rWriting objects:  66% (4/6)\rWriting objects:  83% (5/6)\rWriting objects: 100% (6/6)\rWriting objects: 100% (6/6), 19.27 KiB | 6.42 MiB/s, done.\n",
            "Total 6 (delta 0), reused 0 (delta 0), pack-reused 0\n",
            "To https://github.com/jgarnicaa/Stocks_railway.git\n",
            " * [new branch]      master -> master\n"
          ]
        }
      ]
    },
    {
      "cell_type": "markdown",
      "metadata": {
        "id": "ZSJun7uTiQxk"
      },
      "source": [
        "Si el despliegue fue correcto, debe pegar la url del modelo en la siguiente variable:"
      ]
    },
    {
      "cell_type": "code",
      "execution_count": 67,
      "metadata": {
        "id": "McXX6W08iTbP"
      },
      "outputs": [],
      "source": [
        "# INGRESE SU URL AQUÍ\n",
        "model_url = \"https://stocksrailway-production.up.railway.app\""
      ]
    },
    {
      "cell_type": "code",
      "execution_count": 70,
      "metadata": {
        "id": "2UCj0WKdiTxk",
        "colab": {
          "base_uri": "https://localhost:8080/"
        },
        "outputId": "1dcc9c8f-76d4-401d-8b34-c2affa822ea6"
      },
      "outputs": [
        {
          "output_type": "stream",
          "name": "stdout",
          "text": [
            "{'detail': 'Not Found'}\n"
          ]
        }
      ],
      "source": [
        "#TEST_CELL\n",
        "inp = ApiInput(features=[1.1, 2.2, 3.3, 3.2, 0.9])\n",
        "r = requests.post(\n",
        "    os.path.join(model_url, \".predict\"),\n",
        "    json=inp.dict(),\n",
        "    )\n",
        "print(r.json())"
      ]
    },
    {
      "cell_type": "markdown",
      "metadata": {
        "id": "xE7dvtFEiVIs"
      },
      "source": [
        "El resultado de la celda anterior debería ser:\n",
        "\n",
        "```python\n",
        "{\"forecast\": 9.756829361821138}\n",
        "```"
      ]
    },
    {
      "cell_type": "markdown",
      "metadata": {
        "id": "08eh8HTknUDd"
      },
      "source": [
        "# **Evaluación**"
      ]
    },
    {
      "cell_type": "code",
      "execution_count": 42,
      "metadata": {
        "id": "pb0DP1bWwRll",
        "colab": {
          "base_uri": "https://localhost:8080/",
          "height": 600
        },
        "outputId": "f5e0adf3-2fcd-4f25-896f-f2d16b9c9de0"
      },
      "outputs": [
        {
          "output_type": "stream",
          "name": "stdout",
          "text": [
            "Test 1_1\n",
            "Test 2_1\n",
            "Test 3_1\n",
            "Test 4_1\n",
            "Test 5_1\n",
            "Test 6_1\n"
          ]
        },
        {
          "output_type": "display_data",
          "data": {
            "text/plain": [
              "<IPython.core.display.HTML object>"
            ],
            "text/html": [
              "<h3>Grading succeeded</h3>"
            ]
          },
          "metadata": {}
        },
        {
          "output_type": "display_data",
          "data": {
            "text/plain": [
              "<IPython.core.display.HTML object>"
            ],
            "text/html": [
              "<h6 style=\"color: green;\">TEST Test 1_1 , Your test grade: 100</h6>\n",
              "<h6>Feedback: Probando código ejemplo.</h6>"
            ]
          },
          "metadata": {}
        },
        {
          "output_type": "display_data",
          "data": {
            "text/plain": [
              "<IPython.core.display.HTML object>"
            ],
            "text/html": [
              "<h6 style=\"color: green;\">TEST Test 2_1 , Your test grade: 100</h6>\n",
              "<h6>Feedback: Probando código ejemplo.</h6>"
            ]
          },
          "metadata": {}
        },
        {
          "output_type": "display_data",
          "data": {
            "text/plain": [
              "<IPython.core.display.HTML object>"
            ],
            "text/html": [
              "<h6 style=\"color: green;\">TEST Test 3_1 , Your test grade: 100</h6>\n",
              "<h6>Feedback: Probando código ejemplo.</h6>"
            ]
          },
          "metadata": {}
        },
        {
          "output_type": "display_data",
          "data": {
            "text/plain": [
              "<IPython.core.display.HTML object>"
            ],
            "text/html": [
              "<h6 style=\"color: green;\">TEST Test 4_1 , Your test grade: 100</h6>\n",
              "<h6>Feedback: Probando código ejemplo.</h6>"
            ]
          },
          "metadata": {}
        },
        {
          "output_type": "display_data",
          "data": {
            "text/plain": [
              "<IPython.core.display.HTML object>"
            ],
            "text/html": [
              "<h6 style=\"color: green;\">TEST Test 5_1 , Your test grade: 100</h6>\n",
              "<h6>Feedback: Probando código ejemplo.</h6>"
            ]
          },
          "metadata": {}
        },
        {
          "output_type": "display_data",
          "data": {
            "text/plain": [
              "<IPython.core.display.HTML object>"
            ],
            "text/html": [
              "<h6 style=\"color: green;\">TEST Test 6_1 , Your test grade: 100</h6>\n",
              "<h6>Feedback: Probando código ejemplo.</h6>"
            ]
          },
          "metadata": {}
        },
        {
          "output_type": "display_data",
          "data": {
            "text/plain": [
              "<IPython.core.display.HTML object>"
            ],
            "text/html": [
              "<h3 style=\"color: purple;\">Your submission grade: \"100.0%\"</h3>"
            ]
          },
          "metadata": {}
        }
      ],
      "source": [
        "grader.submit_task(globals())"
      ]
    },
    {
      "cell_type": "markdown",
      "metadata": {
        "id": "xwLqFy8Zzet_"
      },
      "source": [
        "# **Créditos**\n",
        "---\n",
        "\n",
        "* **Profesor:** [Jorge E. Camargo, PhD](https://dis.unal.edu.co/~jecamargom/).\n",
        "\n",
        "* **Asistentes docentes:** [Juan Sebastián Lara Ramírez](https://www.linkedin.com/in/juan-sebastian-lara-ramirez-43570a214/).\n",
        "* **Diseño de imágenes:**\n",
        "  - [Rosa Alejandra Superlano Esquibel](https://www.linkedin.com/in/alejandra-superlano-02b74313a/).\n",
        "  - [Mario Andrés Rodríguez Triana](mailto:mrodrigueztr@unal.edu.co).\n",
        "\n",
        "* **Coordinador de virtualización:** [Edder Hernández Forero](https://www.linkedin.com/in/edder-hernandez-forero-28aa8b207/).\n",
        "\n",
        "**Universidad Nacional de Colombia** - *Facultad de Ingeniería*"
      ]
    }
  ],
  "metadata": {
    "colab": {
      "provenance": [],
      "include_colab_link": true
    },
    "kernelspec": {
      "display_name": "Python 3",
      "name": "python3"
    },
    "language_info": {
      "name": "python"
    }
  },
  "nbformat": 4,
  "nbformat_minor": 0
}